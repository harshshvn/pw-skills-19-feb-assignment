{
 "cells": [
  {
   "cell_type": "markdown",
   "id": "71b20e7e-757e-4e6f-bad1-66097e338fde",
   "metadata": {},
   "source": [
    "Q1"
   ]
  },
  {
   "cell_type": "markdown",
   "id": "67ce9f4c-e59d-4023-af26-af6be4d1f853",
   "metadata": {},
   "source": [
    "Flask is a web framework, it’s a Python module that lets you develop web applications easily. It’s has a small and easy-to-extend core: it’s a microframework that doesn’t include an ORM (Object Relational Manager) or such features\n",
    "It does have many cool features like url routing, template engine.\n",
    "\n",
    "Advantages of flask framework are-\n",
    "\n",
    "1.Scalable. Size is everything, and Flask's status as a microframework means that you can use it to grow a tech project such as a web app incredibly quickly.\n",
    "\n",
    "2.Flexible.\n",
    "\n",
    "3.Easy to negotiate.\n",
    "\n",
    "4.Lightweight.\n",
    "\n",
    "5.Documentation.\n",
    "\n",
    "6.Not a lot of tools.\n",
    "\n",
    "7.Difficult to get familiar with a larger Flask app.\n",
    "\n",
    "8.Maintenance costs."
   ]
  },
  {
   "cell_type": "markdown",
   "id": "c130e7f2-21e3-4af3-bfbe-6a9d9ac025d8",
   "metadata": {},
   "source": [
    "Q2"
   ]
  },
  {
   "cell_type": "code",
   "execution_count": null,
   "id": "079d5a01-6fb0-4cc9-831b-0726cdfc50aa",
   "metadata": {},
   "outputs": [],
   "source": [
    "from flask import Flask\n",
    "app=Flask(\"__name__\")\n",
    "\n",
    "@app.route(\"/\")\n",
    "def hello_world():\n",
    "    return \"Hello world\"\n",
    "\n",
    "if __name__==\"__main__\":\n",
    "    app.run(host=\"0.0.0.0\")\n"
   ]
  },
  {
   "cell_type": "markdown",
   "id": "17c0fa85-597c-4f07-8318-babee6be5189",
   "metadata": {},
   "source": [
    "Q3"
   ]
  },
  {
   "cell_type": "markdown",
   "id": "f93de157-d41e-4491-8b08-73e9b219584c",
   "metadata": {},
   "source": [
    "App routing is used to map the specific URL with the associated function that is intended to perform some task.In other words, we can say that if we visit the particular URL mapped to some particular function, the output of that function is rendered on the browser's screen."
   ]
  },
  {
   "cell_type": "markdown",
   "id": "f8afc15d-ae35-4bf5-91e7-319fec4ef9c2",
   "metadata": {},
   "source": [
    "Q4"
   ]
  },
  {
   "cell_type": "code",
   "execution_count": null,
   "id": "cf46d165-36d1-4f7a-b807-b71bf48076ee",
   "metadata": {},
   "outputs": [],
   "source": [
    "from flask import Flask\n",
    "app=Flask(\"__name__\")\n",
    "\n",
    "@app.route(\"/\")\n",
    "def hello_world():\n",
    "    return \"COMPANY NAME:ABC Corporation\\nLOCATION:INDIA\\nContact Details:98786674674\"\n",
    "\n",
    "@app.route(\"/welcome\")\n",
    "def welcome():\n",
    "    return \"WELCOME TO ABC CORPORATION\"\n",
    "\n",
    "if __name__==\"__main__\":\n",
    "    app.run(host=\"0.0.0.0\")\n"
   ]
  },
  {
   "cell_type": "markdown",
   "id": "713ed2f2-a99a-4d34-9b69-2fba68fc4a68",
   "metadata": {},
   "source": [
    "Q5"
   ]
  },
  {
   "cell_type": "markdown",
   "id": "79d92037-45cf-45cf-8bc0-501bbded23c1",
   "metadata": {},
   "source": [
    "To build a URL to a specific function, use the url_for() function. It accepts the name of the function as its first argument and any number of keyword arguments, each corresponding to a variable part of the URL rule.\n",
    "\n",
    "\n"
   ]
  },
  {
   "cell_type": "code",
   "execution_count": null,
   "id": "3741fc29-6f6a-47cc-94be-0b7a20cc75fa",
   "metadata": {},
   "outputs": [],
   "source": [
    "from flask import Flask\n",
    "app=Flask(\"__name__\")\n",
    "\n",
    "@app.route(\"/\")\n",
    "def hello_world():\n",
    "    return \"Hello world\"\n",
    "\n",
    "with app.test_request_context():\n",
    "    print(url_for('index'))\n",
    "    \n",
    "if __name__==\"__main__\":\n",
    "    app.run(host=\"0.0.0.0\")"
   ]
  }
 ],
 "metadata": {
  "kernelspec": {
   "display_name": "Python 3 (ipykernel)",
   "language": "python",
   "name": "python3"
  },
  "language_info": {
   "codemirror_mode": {
    "name": "ipython",
    "version": 3
   },
   "file_extension": ".py",
   "mimetype": "text/x-python",
   "name": "python",
   "nbconvert_exporter": "python",
   "pygments_lexer": "ipython3",
   "version": "3.10.8"
  }
 },
 "nbformat": 4,
 "nbformat_minor": 5
}
